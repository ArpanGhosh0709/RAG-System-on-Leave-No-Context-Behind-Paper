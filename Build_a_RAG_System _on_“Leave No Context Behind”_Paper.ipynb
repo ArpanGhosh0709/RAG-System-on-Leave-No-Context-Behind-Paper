{
 "cells": [
  {
   "cell_type": "markdown",
   "id": "7ed3c106",
   "metadata": {},
   "source": [
    "# `Build a RAG System on “Leave No Context Behind” Paper`"
   ]
  },
  {
   "cell_type": "code",
   "execution_count": 29,
   "id": "4f424aea",
   "metadata": {},
   "outputs": [],
   "source": [
    "#!pip install pypdf\n",
    "#!pip install langchain_google_genai\n",
    "#!pip install langchain_community\n",
    "#!pip install -U langchain-text-splitters"
   ]
  },
  {
   "cell_type": "code",
   "execution_count": 1,
   "id": "1a1019d6",
   "metadata": {},
   "outputs": [
    {
     "name": "stdout",
     "output_type": "stream",
     "text": [
      "Requirement already satisfied: langchain_google_genai in c:\\users\\arpan ghosh\\anaconda3\\lib\\site-packages (1.0.2)\n",
      "Requirement already satisfied: google-generativeai<0.6.0,>=0.5.0 in c:\\users\\arpan ghosh\\anaconda3\\lib\\site-packages (from langchain_google_genai) (0.5.2)\n",
      "Requirement already satisfied: langchain-core<0.2,>=0.1.27 in c:\\users\\arpan ghosh\\anaconda3\\lib\\site-packages (from langchain_google_genai) (0.1.45)\n",
      "Requirement already satisfied: google-ai-generativelanguage==0.6.2 in c:\\users\\arpan ghosh\\anaconda3\\lib\\site-packages (from google-generativeai<0.6.0,>=0.5.0->langchain_google_genai) (0.6.2)\n",
      "Requirement already satisfied: google-api-core in c:\\users\\arpan ghosh\\anaconda3\\lib\\site-packages (from google-generativeai<0.6.0,>=0.5.0->langchain_google_genai) (2.18.0)\n",
      "Requirement already satisfied: google-api-python-client in c:\\users\\arpan ghosh\\anaconda3\\lib\\site-packages (from google-generativeai<0.6.0,>=0.5.0->langchain_google_genai) (2.126.0)\n",
      "Requirement already satisfied: google-auth>=2.15.0 in c:\\users\\arpan ghosh\\anaconda3\\lib\\site-packages (from google-generativeai<0.6.0,>=0.5.0->langchain_google_genai) (2.29.0)\n",
      "Requirement already satisfied: protobuf in c:\\users\\arpan ghosh\\anaconda3\\lib\\site-packages (from google-generativeai<0.6.0,>=0.5.0->langchain_google_genai) (4.25.3)\n",
      "Requirement already satisfied: pydantic in c:\\users\\arpan ghosh\\anaconda3\\lib\\site-packages (from google-generativeai<0.6.0,>=0.5.0->langchain_google_genai) (2.7.0)\n",
      "Requirement already satisfied: tqdm in c:\\users\\arpan ghosh\\anaconda3\\lib\\site-packages (from google-generativeai<0.6.0,>=0.5.0->langchain_google_genai) (4.65.0)\n",
      "Requirement already satisfied: typing-extensions in c:\\users\\arpan ghosh\\anaconda3\\lib\\site-packages (from google-generativeai<0.6.0,>=0.5.0->langchain_google_genai) (4.11.0)\n",
      "Requirement already satisfied: proto-plus<2.0.0dev,>=1.22.3 in c:\\users\\arpan ghosh\\anaconda3\\lib\\site-packages (from google-ai-generativelanguage==0.6.2->google-generativeai<0.6.0,>=0.5.0->langchain_google_genai) (1.23.0)\n",
      "Requirement already satisfied: PyYAML>=5.3 in c:\\users\\arpan ghosh\\anaconda3\\lib\\site-packages (from langchain-core<0.2,>=0.1.27->langchain_google_genai) (6.0)\n",
      "Requirement already satisfied: jsonpatch<2.0,>=1.33 in c:\\users\\arpan ghosh\\anaconda3\\lib\\site-packages (from langchain-core<0.2,>=0.1.27->langchain_google_genai) (1.33)\n",
      "Requirement already satisfied: langsmith<0.2.0,>=0.1.0 in c:\\users\\arpan ghosh\\anaconda3\\lib\\site-packages (from langchain-core<0.2,>=0.1.27->langchain_google_genai) (0.1.50)\n",
      "Requirement already satisfied: packaging<24.0,>=23.2 in c:\\users\\arpan ghosh\\anaconda3\\lib\\site-packages (from langchain-core<0.2,>=0.1.27->langchain_google_genai) (23.2)\n",
      "Requirement already satisfied: tenacity<9.0.0,>=8.1.0 in c:\\users\\arpan ghosh\\anaconda3\\lib\\site-packages (from langchain-core<0.2,>=0.1.27->langchain_google_genai) (8.2.3)\n",
      "Requirement already satisfied: cachetools<6.0,>=2.0.0 in c:\\users\\arpan ghosh\\anaconda3\\lib\\site-packages (from google-auth>=2.15.0->google-generativeai<0.6.0,>=0.5.0->langchain_google_genai) (5.3.3)\n",
      "Requirement already satisfied: pyasn1-modules>=0.2.1 in c:\\users\\arpan ghosh\\anaconda3\\lib\\site-packages (from google-auth>=2.15.0->google-generativeai<0.6.0,>=0.5.0->langchain_google_genai) (0.2.8)\n",
      "Requirement already satisfied: rsa<5,>=3.1.4 in c:\\users\\arpan ghosh\\anaconda3\\lib\\site-packages (from google-auth>=2.15.0->google-generativeai<0.6.0,>=0.5.0->langchain_google_genai) (4.9)\n",
      "Requirement already satisfied: jsonpointer>=1.9 in c:\\users\\arpan ghosh\\anaconda3\\lib\\site-packages (from jsonpatch<2.0,>=1.33->langchain-core<0.2,>=0.1.27->langchain_google_genai) (2.1)\n",
      "Requirement already satisfied: orjson<4.0.0,>=3.9.14 in c:\\users\\arpan ghosh\\anaconda3\\lib\\site-packages (from langsmith<0.2.0,>=0.1.0->langchain-core<0.2,>=0.1.27->langchain_google_genai) (3.10.1)\n",
      "Requirement already satisfied: requests<3,>=2 in c:\\users\\arpan ghosh\\anaconda3\\lib\\site-packages (from langsmith<0.2.0,>=0.1.0->langchain-core<0.2,>=0.1.27->langchain_google_genai) (2.31.0)\n",
      "Requirement already satisfied: annotated-types>=0.4.0 in c:\\users\\arpan ghosh\\anaconda3\\lib\\site-packages (from pydantic->google-generativeai<0.6.0,>=0.5.0->langchain_google_genai) (0.6.0)\n",
      "Requirement already satisfied: pydantic-core==2.18.1 in c:\\users\\arpan ghosh\\anaconda3\\lib\\site-packages (from pydantic->google-generativeai<0.6.0,>=0.5.0->langchain_google_genai) (2.18.1)\n",
      "Requirement already satisfied: googleapis-common-protos<2.0.dev0,>=1.56.2 in c:\\users\\arpan ghosh\\anaconda3\\lib\\site-packages (from google-api-core->google-generativeai<0.6.0,>=0.5.0->langchain_google_genai) (1.63.0)\n",
      "Requirement already satisfied: httplib2<1.dev0,>=0.19.0 in c:\\users\\arpan ghosh\\anaconda3\\lib\\site-packages (from google-api-python-client->google-generativeai<0.6.0,>=0.5.0->langchain_google_genai) (0.22.0)\n",
      "Requirement already satisfied: google-auth-httplib2<1.0.0,>=0.2.0 in c:\\users\\arpan ghosh\\anaconda3\\lib\\site-packages (from google-api-python-client->google-generativeai<0.6.0,>=0.5.0->langchain_google_genai) (0.2.0)\n",
      "Requirement already satisfied: uritemplate<5,>=3.0.1 in c:\\users\\arpan ghosh\\anaconda3\\lib\\site-packages (from google-api-python-client->google-generativeai<0.6.0,>=0.5.0->langchain_google_genai) (4.1.1)\n",
      "Requirement already satisfied: colorama in c:\\users\\arpan ghosh\\anaconda3\\lib\\site-packages (from tqdm->google-generativeai<0.6.0,>=0.5.0->langchain_google_genai) (0.4.6)\n",
      "Requirement already satisfied: grpcio<2.0dev,>=1.33.2 in c:\\users\\arpan ghosh\\anaconda3\\lib\\site-packages (from google-api-core->google-generativeai<0.6.0,>=0.5.0->langchain_google_genai) (1.62.2)\n",
      "Requirement already satisfied: grpcio-status<2.0.dev0,>=1.33.2 in c:\\users\\arpan ghosh\\anaconda3\\lib\\site-packages (from google-api-core->google-generativeai<0.6.0,>=0.5.0->langchain_google_genai) (1.62.2)\n",
      "Requirement already satisfied: pyparsing!=3.0.0,!=3.0.1,!=3.0.2,!=3.0.3,<4,>=2.4.2 in c:\\users\\arpan ghosh\\anaconda3\\lib\\site-packages (from httplib2<1.dev0,>=0.19.0->google-api-python-client->google-generativeai<0.6.0,>=0.5.0->langchain_google_genai) (3.0.9)\n",
      "Requirement already satisfied: pyasn1<0.5.0,>=0.4.6 in c:\\users\\arpan ghosh\\anaconda3\\lib\\site-packages (from pyasn1-modules>=0.2.1->google-auth>=2.15.0->google-generativeai<0.6.0,>=0.5.0->langchain_google_genai) (0.4.8)\n",
      "Requirement already satisfied: charset-normalizer<4,>=2 in c:\\users\\arpan ghosh\\anaconda3\\lib\\site-packages (from requests<3,>=2->langsmith<0.2.0,>=0.1.0->langchain-core<0.2,>=0.1.27->langchain_google_genai) (2.0.4)\n",
      "Requirement already satisfied: idna<4,>=2.5 in c:\\users\\arpan ghosh\\anaconda3\\lib\\site-packages (from requests<3,>=2->langsmith<0.2.0,>=0.1.0->langchain-core<0.2,>=0.1.27->langchain_google_genai) (3.4)\n",
      "Requirement already satisfied: urllib3<3,>=1.21.1 in c:\\users\\arpan ghosh\\anaconda3\\lib\\site-packages (from requests<3,>=2->langsmith<0.2.0,>=0.1.0->langchain-core<0.2,>=0.1.27->langchain_google_genai) (1.26.16)\n",
      "Requirement already satisfied: certifi>=2017.4.17 in c:\\users\\arpan ghosh\\anaconda3\\lib\\site-packages (from requests<3,>=2->langsmith<0.2.0,>=0.1.0->langchain-core<0.2,>=0.1.27->langchain_google_genai) (2023.7.22)\n"
     ]
    }
   ],
   "source": [
    "!pip install langchain_google_genai"
   ]
  },
  {
   "cell_type": "code",
   "execution_count": 2,
   "id": "a5e1cb83",
   "metadata": {},
   "outputs": [
    {
     "name": "stdout",
     "output_type": "stream",
     "text": [
      "Requirement already satisfied: langchain_community in c:\\users\\arpan ghosh\\anaconda3\\lib\\site-packages (0.0.34)\n",
      "Requirement already satisfied: PyYAML>=5.3 in c:\\users\\arpan ghosh\\anaconda3\\lib\\site-packages (from langchain_community) (6.0)\n",
      "Requirement already satisfied: SQLAlchemy<3,>=1.4 in c:\\users\\arpan ghosh\\anaconda3\\lib\\site-packages (from langchain_community) (1.4.39)\n",
      "Requirement already satisfied: aiohttp<4.0.0,>=3.8.3 in c:\\users\\arpan ghosh\\anaconda3\\lib\\site-packages (from langchain_community) (3.8.3)\n",
      "Requirement already satisfied: dataclasses-json<0.7,>=0.5.7 in c:\\users\\arpan ghosh\\anaconda3\\lib\\site-packages (from langchain_community) (0.6.4)\n",
      "Requirement already satisfied: langchain-core<0.2.0,>=0.1.45 in c:\\users\\arpan ghosh\\anaconda3\\lib\\site-packages (from langchain_community) (0.1.45)\n",
      "Requirement already satisfied: langsmith<0.2.0,>=0.1.0 in c:\\users\\arpan ghosh\\anaconda3\\lib\\site-packages (from langchain_community) (0.1.50)\n",
      "Requirement already satisfied: numpy<2,>=1 in c:\\users\\arpan ghosh\\anaconda3\\lib\\site-packages (from langchain_community) (1.24.3)\n",
      "Requirement already satisfied: requests<3,>=2 in c:\\users\\arpan ghosh\\anaconda3\\lib\\site-packages (from langchain_community) (2.31.0)\n",
      "Requirement already satisfied: tenacity<9.0.0,>=8.1.0 in c:\\users\\arpan ghosh\\anaconda3\\lib\\site-packages (from langchain_community) (8.2.3)\n",
      "Requirement already satisfied: attrs>=17.3.0 in c:\\users\\arpan ghosh\\anaconda3\\lib\\site-packages (from aiohttp<4.0.0,>=3.8.3->langchain_community) (22.1.0)\n",
      "Requirement already satisfied: charset-normalizer<3.0,>=2.0 in c:\\users\\arpan ghosh\\anaconda3\\lib\\site-packages (from aiohttp<4.0.0,>=3.8.3->langchain_community) (2.0.4)\n",
      "Requirement already satisfied: multidict<7.0,>=4.5 in c:\\users\\arpan ghosh\\anaconda3\\lib\\site-packages (from aiohttp<4.0.0,>=3.8.3->langchain_community) (6.0.2)\n",
      "Requirement already satisfied: async-timeout<5.0,>=4.0.0a3 in c:\\users\\arpan ghosh\\anaconda3\\lib\\site-packages (from aiohttp<4.0.0,>=3.8.3->langchain_community) (4.0.2)\n",
      "Requirement already satisfied: yarl<2.0,>=1.0 in c:\\users\\arpan ghosh\\anaconda3\\lib\\site-packages (from aiohttp<4.0.0,>=3.8.3->langchain_community) (1.8.1)\n",
      "Requirement already satisfied: frozenlist>=1.1.1 in c:\\users\\arpan ghosh\\anaconda3\\lib\\site-packages (from aiohttp<4.0.0,>=3.8.3->langchain_community) (1.3.3)\n",
      "Requirement already satisfied: aiosignal>=1.1.2 in c:\\users\\arpan ghosh\\anaconda3\\lib\\site-packages (from aiohttp<4.0.0,>=3.8.3->langchain_community) (1.2.0)\n",
      "Requirement already satisfied: marshmallow<4.0.0,>=3.18.0 in c:\\users\\arpan ghosh\\anaconda3\\lib\\site-packages (from dataclasses-json<0.7,>=0.5.7->langchain_community) (3.21.1)\n",
      "Requirement already satisfied: typing-inspect<1,>=0.4.0 in c:\\users\\arpan ghosh\\anaconda3\\lib\\site-packages (from dataclasses-json<0.7,>=0.5.7->langchain_community) (0.9.0)\n",
      "Requirement already satisfied: jsonpatch<2.0,>=1.33 in c:\\users\\arpan ghosh\\anaconda3\\lib\\site-packages (from langchain-core<0.2.0,>=0.1.45->langchain_community) (1.33)\n",
      "Requirement already satisfied: packaging<24.0,>=23.2 in c:\\users\\arpan ghosh\\anaconda3\\lib\\site-packages (from langchain-core<0.2.0,>=0.1.45->langchain_community) (23.2)\n",
      "Requirement already satisfied: pydantic<3,>=1 in c:\\users\\arpan ghosh\\anaconda3\\lib\\site-packages (from langchain-core<0.2.0,>=0.1.45->langchain_community) (2.7.0)\n",
      "Requirement already satisfied: orjson<4.0.0,>=3.9.14 in c:\\users\\arpan ghosh\\anaconda3\\lib\\site-packages (from langsmith<0.2.0,>=0.1.0->langchain_community) (3.10.1)\n",
      "Requirement already satisfied: idna<4,>=2.5 in c:\\users\\arpan ghosh\\anaconda3\\lib\\site-packages (from requests<3,>=2->langchain_community) (3.4)\n",
      "Requirement already satisfied: urllib3<3,>=1.21.1 in c:\\users\\arpan ghosh\\anaconda3\\lib\\site-packages (from requests<3,>=2->langchain_community) (1.26.16)\n",
      "Requirement already satisfied: certifi>=2017.4.17 in c:\\users\\arpan ghosh\\anaconda3\\lib\\site-packages (from requests<3,>=2->langchain_community) (2023.7.22)\n",
      "Requirement already satisfied: greenlet!=0.4.17 in c:\\users\\arpan ghosh\\anaconda3\\lib\\site-packages (from SQLAlchemy<3,>=1.4->langchain_community) (2.0.1)\n",
      "Requirement already satisfied: jsonpointer>=1.9 in c:\\users\\arpan ghosh\\anaconda3\\lib\\site-packages (from jsonpatch<2.0,>=1.33->langchain-core<0.2.0,>=0.1.45->langchain_community) (2.1)\n",
      "Requirement already satisfied: annotated-types>=0.4.0 in c:\\users\\arpan ghosh\\anaconda3\\lib\\site-packages (from pydantic<3,>=1->langchain-core<0.2.0,>=0.1.45->langchain_community) (0.6.0)\n",
      "Requirement already satisfied: pydantic-core==2.18.1 in c:\\users\\arpan ghosh\\anaconda3\\lib\\site-packages (from pydantic<3,>=1->langchain-core<0.2.0,>=0.1.45->langchain_community) (2.18.1)\n",
      "Requirement already satisfied: typing-extensions>=4.6.1 in c:\\users\\arpan ghosh\\anaconda3\\lib\\site-packages (from pydantic<3,>=1->langchain-core<0.2.0,>=0.1.45->langchain_community) (4.11.0)\n",
      "Requirement already satisfied: mypy-extensions>=0.3.0 in c:\\users\\arpan ghosh\\anaconda3\\lib\\site-packages (from typing-inspect<1,>=0.4.0->dataclasses-json<0.7,>=0.5.7->langchain_community) (0.4.3)\n"
     ]
    }
   ],
   "source": [
    "!pip install langchain_community"
   ]
  },
  {
   "cell_type": "code",
   "execution_count": 3,
   "id": "3098e67b",
   "metadata": {},
   "outputs": [
    {
     "name": "stdout",
     "output_type": "stream",
     "text": [
      "Requirement already satisfied: langchain-text-splitters in c:\\users\\arpan ghosh\\anaconda3\\lib\\site-packages (0.0.1)\n",
      "Requirement already satisfied: langchain-core<0.2.0,>=0.1.28 in c:\\users\\arpan ghosh\\anaconda3\\lib\\site-packages (from langchain-text-splitters) (0.1.45)\n",
      "Requirement already satisfied: PyYAML>=5.3 in c:\\users\\arpan ghosh\\anaconda3\\lib\\site-packages (from langchain-core<0.2.0,>=0.1.28->langchain-text-splitters) (6.0)\n",
      "Requirement already satisfied: jsonpatch<2.0,>=1.33 in c:\\users\\arpan ghosh\\anaconda3\\lib\\site-packages (from langchain-core<0.2.0,>=0.1.28->langchain-text-splitters) (1.33)\n",
      "Requirement already satisfied: langsmith<0.2.0,>=0.1.0 in c:\\users\\arpan ghosh\\anaconda3\\lib\\site-packages (from langchain-core<0.2.0,>=0.1.28->langchain-text-splitters) (0.1.50)\n",
      "Requirement already satisfied: packaging<24.0,>=23.2 in c:\\users\\arpan ghosh\\anaconda3\\lib\\site-packages (from langchain-core<0.2.0,>=0.1.28->langchain-text-splitters) (23.2)\n",
      "Requirement already satisfied: pydantic<3,>=1 in c:\\users\\arpan ghosh\\anaconda3\\lib\\site-packages (from langchain-core<0.2.0,>=0.1.28->langchain-text-splitters) (2.7.0)\n",
      "Requirement already satisfied: tenacity<9.0.0,>=8.1.0 in c:\\users\\arpan ghosh\\anaconda3\\lib\\site-packages (from langchain-core<0.2.0,>=0.1.28->langchain-text-splitters) (8.2.3)\n",
      "Requirement already satisfied: jsonpointer>=1.9 in c:\\users\\arpan ghosh\\anaconda3\\lib\\site-packages (from jsonpatch<2.0,>=1.33->langchain-core<0.2.0,>=0.1.28->langchain-text-splitters) (2.1)\n",
      "Requirement already satisfied: orjson<4.0.0,>=3.9.14 in c:\\users\\arpan ghosh\\anaconda3\\lib\\site-packages (from langsmith<0.2.0,>=0.1.0->langchain-core<0.2.0,>=0.1.28->langchain-text-splitters) (3.10.1)\n",
      "Requirement already satisfied: requests<3,>=2 in c:\\users\\arpan ghosh\\anaconda3\\lib\\site-packages (from langsmith<0.2.0,>=0.1.0->langchain-core<0.2.0,>=0.1.28->langchain-text-splitters) (2.31.0)\n",
      "Requirement already satisfied: annotated-types>=0.4.0 in c:\\users\\arpan ghosh\\anaconda3\\lib\\site-packages (from pydantic<3,>=1->langchain-core<0.2.0,>=0.1.28->langchain-text-splitters) (0.6.0)\n",
      "Requirement already satisfied: pydantic-core==2.18.1 in c:\\users\\arpan ghosh\\anaconda3\\lib\\site-packages (from pydantic<3,>=1->langchain-core<0.2.0,>=0.1.28->langchain-text-splitters) (2.18.1)\n",
      "Requirement already satisfied: typing-extensions>=4.6.1 in c:\\users\\arpan ghosh\\anaconda3\\lib\\site-packages (from pydantic<3,>=1->langchain-core<0.2.0,>=0.1.28->langchain-text-splitters) (4.11.0)\n",
      "Requirement already satisfied: charset-normalizer<4,>=2 in c:\\users\\arpan ghosh\\anaconda3\\lib\\site-packages (from requests<3,>=2->langsmith<0.2.0,>=0.1.0->langchain-core<0.2.0,>=0.1.28->langchain-text-splitters) (2.0.4)\n",
      "Requirement already satisfied: idna<4,>=2.5 in c:\\users\\arpan ghosh\\anaconda3\\lib\\site-packages (from requests<3,>=2->langsmith<0.2.0,>=0.1.0->langchain-core<0.2.0,>=0.1.28->langchain-text-splitters) (3.4)\n",
      "Requirement already satisfied: urllib3<3,>=1.21.1 in c:\\users\\arpan ghosh\\anaconda3\\lib\\site-packages (from requests<3,>=2->langsmith<0.2.0,>=0.1.0->langchain-core<0.2.0,>=0.1.28->langchain-text-splitters) (1.26.16)\n",
      "Requirement already satisfied: certifi>=2017.4.17 in c:\\users\\arpan ghosh\\anaconda3\\lib\\site-packages (from requests<3,>=2->langsmith<0.2.0,>=0.1.0->langchain-core<0.2.0,>=0.1.28->langchain-text-splitters) (2023.7.22)\n"
     ]
    }
   ],
   "source": [
    "!pip install -U langchain-text-splitters"
   ]
  },
  {
   "cell_type": "code",
   "execution_count": 4,
   "id": "6c018cfc",
   "metadata": {},
   "outputs": [
    {
     "name": "stdout",
     "output_type": "stream",
     "text": [
      "Requirement already satisfied: pypdf in c:\\users\\arpan ghosh\\anaconda3\\lib\\site-packages (4.2.0)\n"
     ]
    }
   ],
   "source": [
    "!pip install pypdf"
   ]
  },
  {
   "cell_type": "code",
   "execution_count": 5,
   "id": "1ae254e0",
   "metadata": {},
   "outputs": [
    {
     "name": "stdout",
     "output_type": "stream",
     "text": [
      "Collecting chromadb\n",
      "  Obtaining dependency information for chromadb from https://files.pythonhosted.org/packages/a4/e1/ce276f553811bd6c684cfe5f637a33ae6444750746f974a8f73d5dc92004/chromadb-0.5.0-py3-none-any.whl.metadata\n",
      "  Using cached chromadb-0.5.0-py3-none-any.whl.metadata (7.3 kB)\n",
      "Collecting build>=1.0.3 (from chromadb)\n",
      "  Obtaining dependency information for build>=1.0.3 from https://files.pythonhosted.org/packages/e2/03/f3c8ba0a6b6e30d7d18c40faab90807c9bb5e9a1e3b2fe2008af624a9c97/build-1.2.1-py3-none-any.whl.metadata\n",
      "  Using cached build-1.2.1-py3-none-any.whl.metadata (4.3 kB)\n",
      "Requirement already satisfied: requests>=2.28 in c:\\users\\arpan ghosh\\anaconda3\\lib\\site-packages (from chromadb) (2.31.0)\n",
      "Requirement already satisfied: pydantic>=1.9 in c:\\users\\arpan ghosh\\anaconda3\\lib\\site-packages (from chromadb) (2.7.0)\n",
      "Requirement already satisfied: chroma-hnswlib==0.7.3 in c:\\users\\arpan ghosh\\anaconda3\\lib\\site-packages (from chromadb) (0.7.3)\n",
      "Collecting fastapi>=0.95.2 (from chromadb)\n",
      "  Obtaining dependency information for fastapi>=0.95.2 from https://files.pythonhosted.org/packages/ad/0f/feb7fd8957714498fc4a6be7f13408869619f868f418698a2d934afa82a7/fastapi-0.110.2-py3-none-any.whl.metadata\n",
      "  Using cached fastapi-0.110.2-py3-none-any.whl.metadata (24 kB)\n",
      "Collecting uvicorn[standard]>=0.18.3 (from chromadb)\n",
      "  Obtaining dependency information for uvicorn[standard]>=0.18.3 from https://files.pythonhosted.org/packages/73/f5/cbb16fcbe277c1e0b8b3ddd188f2df0e0947f545c49119b589643632d156/uvicorn-0.29.0-py3-none-any.whl.metadata\n",
      "  Using cached uvicorn-0.29.0-py3-none-any.whl.metadata (6.3 kB)\n",
      "Requirement already satisfied: numpy>=1.22.5 in c:\\users\\arpan ghosh\\anaconda3\\lib\\site-packages (from chromadb) (1.24.3)\n",
      "Collecting posthog>=2.4.0 (from chromadb)\n",
      "  Obtaining dependency information for posthog>=2.4.0 from https://files.pythonhosted.org/packages/6c/5f/24cb22118db0e11703b6b80ef9f982eadde21eb585c3a769719e48dce893/posthog-3.5.0-py2.py3-none-any.whl.metadata\n",
      "  Using cached posthog-3.5.0-py2.py3-none-any.whl.metadata (2.0 kB)\n",
      "Requirement already satisfied: typing-extensions>=4.5.0 in c:\\users\\arpan ghosh\\anaconda3\\lib\\site-packages (from chromadb) (4.11.0)\n",
      "Collecting onnxruntime>=1.14.1 (from chromadb)\n",
      "  Obtaining dependency information for onnxruntime>=1.14.1 from https://files.pythonhosted.org/packages/ea/ef/202d3fb284c5936f8aa6d87021963e8e8f776834aa18e8f440c268827639/onnxruntime-1.17.3-cp311-cp311-win_amd64.whl.metadata\n",
      "  Using cached onnxruntime-1.17.3-cp311-cp311-win_amd64.whl.metadata (4.6 kB)\n",
      "Collecting opentelemetry-api>=1.2.0 (from chromadb)\n",
      "  Obtaining dependency information for opentelemetry-api>=1.2.0 from https://files.pythonhosted.org/packages/81/30/603d64b33b1203638cf4fae49095bc9851fe09c6ad6d88dd10d7e6a9f999/opentelemetry_api-1.24.0-py3-none-any.whl.metadata\n",
      "  Using cached opentelemetry_api-1.24.0-py3-none-any.whl.metadata (1.3 kB)\n",
      "Collecting opentelemetry-exporter-otlp-proto-grpc>=1.2.0 (from chromadb)\n",
      "  Obtaining dependency information for opentelemetry-exporter-otlp-proto-grpc>=1.2.0 from https://files.pythonhosted.org/packages/b0/14/cdfe43225303e621d9c329001dd4f922f249ec62b11a0729dbbb2eab14c7/opentelemetry_exporter_otlp_proto_grpc-1.24.0-py3-none-any.whl.metadata\n",
      "  Using cached opentelemetry_exporter_otlp_proto_grpc-1.24.0-py3-none-any.whl.metadata (2.2 kB)\n",
      "Collecting opentelemetry-instrumentation-fastapi>=0.41b0 (from chromadb)\n",
      "  Obtaining dependency information for opentelemetry-instrumentation-fastapi>=0.41b0 from https://files.pythonhosted.org/packages/c4/8e/6789b96a86f3f1f81dbfb381a5b6c83309c98bda8f072194735d58c2d0ec/opentelemetry_instrumentation_fastapi-0.45b0-py3-none-any.whl.metadata\n",
      "  Using cached opentelemetry_instrumentation_fastapi-0.45b0-py3-none-any.whl.metadata (2.0 kB)\n",
      "Collecting opentelemetry-sdk>=1.2.0 (from chromadb)\n",
      "  Obtaining dependency information for opentelemetry-sdk>=1.2.0 from https://files.pythonhosted.org/packages/f2/de/13693237295f4b90f831feaac2481d0b467605ca307b964d6cb8b5a39da2/opentelemetry_sdk-1.24.0-py3-none-any.whl.metadata\n",
      "  Using cached opentelemetry_sdk-1.24.0-py3-none-any.whl.metadata (1.4 kB)\n",
      "Collecting tokenizers>=0.13.2 (from chromadb)\n",
      "  Obtaining dependency information for tokenizers>=0.13.2 from https://files.pythonhosted.org/packages/65/8e/6d7d72b28f22c422cff8beae10ac3c2e4376b9be721ef8167b7eecd1da62/tokenizers-0.19.1-cp311-none-win_amd64.whl.metadata\n",
      "  Using cached tokenizers-0.19.1-cp311-none-win_amd64.whl.metadata (6.9 kB)\n",
      "Requirement already satisfied: pypika>=0.48.9 in c:\\users\\arpan ghosh\\anaconda3\\lib\\site-packages (from chromadb) (0.48.9)\n",
      "Requirement already satisfied: tqdm>=4.65.0 in c:\\users\\arpan ghosh\\anaconda3\\lib\\site-packages (from chromadb) (4.65.0)\n",
      "Requirement already satisfied: overrides>=7.3.1 in c:\\users\\arpan ghosh\\anaconda3\\lib\\site-packages (from chromadb) (7.7.0)\n",
      "Requirement already satisfied: importlib-resources in c:\\users\\arpan ghosh\\anaconda3\\lib\\site-packages (from chromadb) (6.4.0)\n",
      "Requirement already satisfied: grpcio>=1.58.0 in c:\\users\\arpan ghosh\\anaconda3\\lib\\site-packages (from chromadb) (1.62.2)\n",
      "Requirement already satisfied: bcrypt>=4.0.1 in c:\\users\\arpan ghosh\\anaconda3\\lib\\site-packages (from chromadb) (4.1.2)\n",
      "Collecting typer>=0.9.0 (from chromadb)\n",
      "  Obtaining dependency information for typer>=0.9.0 from https://files.pythonhosted.org/packages/20/b5/11cf2e34fbb11b937e006286ab5b8cfd334fde1c8fa4dd7f491226931180/typer-0.12.3-py3-none-any.whl.metadata\n",
      "  Using cached typer-0.12.3-py3-none-any.whl.metadata (15 kB)\n",
      "Collecting kubernetes>=28.1.0 (from chromadb)\n",
      "  Obtaining dependency information for kubernetes>=28.1.0 from https://files.pythonhosted.org/packages/6f/34/164e57fec8a9693d7e6ae2d1a345482020ea9e9b32eab95a90bb3eaea83d/kubernetes-29.0.0-py2.py3-none-any.whl.metadata\n",
      "  Using cached kubernetes-29.0.0-py2.py3-none-any.whl.metadata (1.5 kB)\n",
      "Requirement already satisfied: tenacity>=8.2.3 in c:\\users\\arpan ghosh\\anaconda3\\lib\\site-packages (from chromadb) (8.2.3)\n",
      "Requirement already satisfied: PyYAML>=6.0.0 in c:\\users\\arpan ghosh\\anaconda3\\lib\\site-packages (from chromadb) (6.0)\n",
      "Requirement already satisfied: mmh3>=4.0.1 in c:\\users\\arpan ghosh\\anaconda3\\lib\\site-packages (from chromadb) (4.1.0)\n",
      "Requirement already satisfied: orjson>=3.9.12 in c:\\users\\arpan ghosh\\anaconda3\\lib\\site-packages (from chromadb) (3.10.1)\n",
      "Requirement already satisfied: packaging>=19.1 in c:\\users\\arpan ghosh\\anaconda3\\lib\\site-packages (from build>=1.0.3->chromadb) (23.2)\n",
      "Requirement already satisfied: pyproject_hooks in c:\\users\\arpan ghosh\\anaconda3\\lib\\site-packages (from build>=1.0.3->chromadb) (1.0.0)\n",
      "Requirement already satisfied: colorama in c:\\users\\arpan ghosh\\anaconda3\\lib\\site-packages (from build>=1.0.3->chromadb) (0.4.6)\n",
      "Collecting starlette<0.38.0,>=0.37.2 (from fastapi>=0.95.2->chromadb)\n",
      "  Obtaining dependency information for starlette<0.38.0,>=0.37.2 from https://files.pythonhosted.org/packages/fd/18/31fa32ed6c68ba66220204ef0be798c349d0a20c1901f9d4a794e08c76d8/starlette-0.37.2-py3-none-any.whl.metadata\n",
      "  Using cached starlette-0.37.2-py3-none-any.whl.metadata (5.9 kB)\n",
      "Requirement already satisfied: certifi>=14.05.14 in c:\\users\\arpan ghosh\\anaconda3\\lib\\site-packages (from kubernetes>=28.1.0->chromadb) (2023.7.22)\n",
      "Requirement already satisfied: six>=1.9.0 in c:\\users\\arpan ghosh\\anaconda3\\lib\\site-packages (from kubernetes>=28.1.0->chromadb) (1.16.0)\n",
      "Requirement already satisfied: python-dateutil>=2.5.3 in c:\\users\\arpan ghosh\\anaconda3\\lib\\site-packages (from kubernetes>=28.1.0->chromadb) (2.8.2)\n",
      "Requirement already satisfied: google-auth>=1.0.1 in c:\\users\\arpan ghosh\\anaconda3\\lib\\site-packages (from kubernetes>=28.1.0->chromadb) (2.29.0)\n",
      "Requirement already satisfied: websocket-client!=0.40.0,!=0.41.*,!=0.42.*,>=0.32.0 in c:\\users\\arpan ghosh\\anaconda3\\lib\\site-packages (from kubernetes>=28.1.0->chromadb) (0.58.0)\n",
      "Collecting requests-oauthlib (from kubernetes>=28.1.0->chromadb)\n",
      "  Obtaining dependency information for requests-oauthlib from https://files.pythonhosted.org/packages/3b/5d/63d4ae3b9daea098d5d6f5da83984853c1bbacd5dc826764b249fe119d24/requests_oauthlib-2.0.0-py2.py3-none-any.whl.metadata\n",
      "  Using cached requests_oauthlib-2.0.0-py2.py3-none-any.whl.metadata (11 kB)\n",
      "Requirement already satisfied: oauthlib>=3.2.2 in c:\\users\\arpan ghosh\\anaconda3\\lib\\site-packages (from kubernetes>=28.1.0->chromadb) (3.2.2)\n",
      "Requirement already satisfied: urllib3>=1.24.2 in c:\\users\\arpan ghosh\\anaconda3\\lib\\site-packages (from kubernetes>=28.1.0->chromadb) (1.26.16)\n",
      "Collecting coloredlogs (from onnxruntime>=1.14.1->chromadb)\n",
      "  Obtaining dependency information for coloredlogs from https://files.pythonhosted.org/packages/a7/06/3d6badcf13db419e25b07041d9c7b4a2c331d3f4e7134445ec5df57714cd/coloredlogs-15.0.1-py2.py3-none-any.whl.metadata\n",
      "  Using cached coloredlogs-15.0.1-py2.py3-none-any.whl.metadata (12 kB)\n",
      "Requirement already satisfied: flatbuffers in c:\\users\\arpan ghosh\\anaconda3\\lib\\site-packages (from onnxruntime>=1.14.1->chromadb) (24.3.25)\n",
      "Requirement already satisfied: protobuf in c:\\users\\arpan ghosh\\anaconda3\\lib\\site-packages (from onnxruntime>=1.14.1->chromadb) (4.25.3)\n",
      "Requirement already satisfied: sympy in c:\\users\\arpan ghosh\\anaconda3\\lib\\site-packages (from onnxruntime>=1.14.1->chromadb) (1.11.1)\n",
      "Requirement already satisfied: deprecated>=1.2.6 in c:\\users\\arpan ghosh\\anaconda3\\lib\\site-packages (from opentelemetry-api>=1.2.0->chromadb) (1.2.14)\n",
      "Requirement already satisfied: importlib-metadata<=7.0,>=6.0 in c:\\users\\arpan ghosh\\anaconda3\\lib\\site-packages (from opentelemetry-api>=1.2.0->chromadb) (6.0.0)\n",
      "Requirement already satisfied: googleapis-common-protos~=1.52 in c:\\users\\arpan ghosh\\anaconda3\\lib\\site-packages (from opentelemetry-exporter-otlp-proto-grpc>=1.2.0->chromadb) (1.63.0)\n",
      "Collecting opentelemetry-exporter-otlp-proto-common==1.24.0 (from opentelemetry-exporter-otlp-proto-grpc>=1.2.0->chromadb)\n",
      "  Obtaining dependency information for opentelemetry-exporter-otlp-proto-common==1.24.0 from https://files.pythonhosted.org/packages/46/d3/b344cb181a525f7e4519c27de17d721c504e01063520b9003569ef9bf692/opentelemetry_exporter_otlp_proto_common-1.24.0-py3-none-any.whl.metadata\n",
      "  Using cached opentelemetry_exporter_otlp_proto_common-1.24.0-py3-none-any.whl.metadata (1.7 kB)\n",
      "Requirement already satisfied: opentelemetry-proto==1.24.0 in c:\\users\\arpan ghosh\\anaconda3\\lib\\site-packages (from opentelemetry-exporter-otlp-proto-grpc>=1.2.0->chromadb) (1.24.0)\n",
      "Collecting opentelemetry-instrumentation-asgi==0.45b0 (from opentelemetry-instrumentation-fastapi>=0.41b0->chromadb)\n",
      "  Obtaining dependency information for opentelemetry-instrumentation-asgi==0.45b0 from https://files.pythonhosted.org/packages/21/c0/a50c91aad79ea205130d8d64426f7a36fefb806c5f5fdfdb51ea8cf67db1/opentelemetry_instrumentation_asgi-0.45b0-py3-none-any.whl.metadata\n",
      "  Using cached opentelemetry_instrumentation_asgi-0.45b0-py3-none-any.whl.metadata (1.9 kB)\n",
      "Collecting opentelemetry-instrumentation==0.45b0 (from opentelemetry-instrumentation-fastapi>=0.41b0->chromadb)\n",
      "  Obtaining dependency information for opentelemetry-instrumentation==0.45b0 from https://files.pythonhosted.org/packages/fe/e5/cb0cfa596fa18d09f458058d6e55e2fc82300a45ae57c457c197949fd4a6/opentelemetry_instrumentation-0.45b0-py3-none-any.whl.metadata\n",
      "  Using cached opentelemetry_instrumentation-0.45b0-py3-none-any.whl.metadata (6.1 kB)\n",
      "Requirement already satisfied: opentelemetry-semantic-conventions==0.45b0 in c:\\users\\arpan ghosh\\anaconda3\\lib\\site-packages (from opentelemetry-instrumentation-fastapi>=0.41b0->chromadb) (0.45b0)\n",
      "Requirement already satisfied: opentelemetry-util-http==0.45b0 in c:\\users\\arpan ghosh\\anaconda3\\lib\\site-packages (from opentelemetry-instrumentation-fastapi>=0.41b0->chromadb) (0.45b0)\n",
      "Requirement already satisfied: setuptools>=16.0 in c:\\users\\arpan ghosh\\anaconda3\\lib\\site-packages (from opentelemetry-instrumentation==0.45b0->opentelemetry-instrumentation-fastapi>=0.41b0->chromadb) (68.0.0)\n",
      "Requirement already satisfied: wrapt<2.0.0,>=1.0.0 in c:\\users\\arpan ghosh\\anaconda3\\lib\\site-packages (from opentelemetry-instrumentation==0.45b0->opentelemetry-instrumentation-fastapi>=0.41b0->chromadb) (1.14.1)\n",
      "Collecting asgiref~=3.0 (from opentelemetry-instrumentation-asgi==0.45b0->opentelemetry-instrumentation-fastapi>=0.41b0->chromadb)\n",
      "  Obtaining dependency information for asgiref~=3.0 from https://files.pythonhosted.org/packages/39/e3/893e8757be2612e6c266d9bb58ad2e3651524b5b40cf56761e985a28b13e/asgiref-3.8.1-py3-none-any.whl.metadata\n",
      "  Using cached asgiref-3.8.1-py3-none-any.whl.metadata (9.3 kB)\n",
      "Requirement already satisfied: monotonic>=1.5 in c:\\users\\arpan ghosh\\anaconda3\\lib\\site-packages (from posthog>=2.4.0->chromadb) (1.6)\n",
      "Collecting backoff>=1.10.0 (from posthog>=2.4.0->chromadb)\n",
      "  Obtaining dependency information for backoff>=1.10.0 from https://files.pythonhosted.org/packages/df/73/b6e24bd22e6720ca8ee9a85a0c4a2971af8497d8f3193fa05390cbd46e09/backoff-2.2.1-py3-none-any.whl.metadata\n",
      "  Using cached backoff-2.2.1-py3-none-any.whl.metadata (14 kB)\n",
      "Requirement already satisfied: annotated-types>=0.4.0 in c:\\users\\arpan ghosh\\anaconda3\\lib\\site-packages (from pydantic>=1.9->chromadb) (0.6.0)\n",
      "Requirement already satisfied: pydantic-core==2.18.1 in c:\\users\\arpan ghosh\\anaconda3\\lib\\site-packages (from pydantic>=1.9->chromadb) (2.18.1)\n",
      "Requirement already satisfied: charset-normalizer<4,>=2 in c:\\users\\arpan ghosh\\anaconda3\\lib\\site-packages (from requests>=2.28->chromadb) (2.0.4)\n",
      "Requirement already satisfied: idna<4,>=2.5 in c:\\users\\arpan ghosh\\anaconda3\\lib\\site-packages (from requests>=2.28->chromadb) (3.4)\n",
      "Collecting huggingface-hub<1.0,>=0.16.4 (from tokenizers>=0.13.2->chromadb)\n",
      "  Obtaining dependency information for huggingface-hub<1.0,>=0.16.4 from https://files.pythonhosted.org/packages/05/c0/779afbad8e75565c09ffa24a88b5dd7e293c92b74eb09df6435fc58ac986/huggingface_hub-0.22.2-py3-none-any.whl.metadata\n",
      "  Using cached huggingface_hub-0.22.2-py3-none-any.whl.metadata (12 kB)\n",
      "Requirement already satisfied: click>=8.0.0 in c:\\users\\arpan ghosh\\anaconda3\\lib\\site-packages (from typer>=0.9.0->chromadb) (8.0.4)\n",
      "Requirement already satisfied: shellingham>=1.3.0 in c:\\users\\arpan ghosh\\anaconda3\\lib\\site-packages (from typer>=0.9.0->chromadb) (1.5.4)\n",
      "Requirement already satisfied: rich>=10.11.0 in c:\\users\\arpan ghosh\\anaconda3\\lib\\site-packages (from typer>=0.9.0->chromadb) (13.7.1)\n",
      "Requirement already satisfied: h11>=0.8 in c:\\users\\arpan ghosh\\anaconda3\\lib\\site-packages (from uvicorn[standard]>=0.18.3->chromadb) (0.14.0)\n",
      "Requirement already satisfied: httptools>=0.5.0 in c:\\users\\arpan ghosh\\anaconda3\\lib\\site-packages (from uvicorn[standard]>=0.18.3->chromadb) (0.6.1)\n",
      "Requirement already satisfied: python-dotenv>=0.13 in c:\\users\\arpan ghosh\\anaconda3\\lib\\site-packages (from uvicorn[standard]>=0.18.3->chromadb) (1.0.1)\n",
      "Collecting watchfiles>=0.13 (from uvicorn[standard]>=0.18.3->chromadb)\n",
      "  Obtaining dependency information for watchfiles>=0.13 from https://files.pythonhosted.org/packages/f3/dc/2a8a447b783f5059c4bf7a6bad8fe59375a5a9ce872774763b25c21c2860/watchfiles-0.21.0-cp311-none-win_amd64.whl.metadata\n",
      "  Using cached watchfiles-0.21.0-cp311-none-win_amd64.whl.metadata (5.0 kB)\n",
      "Requirement already satisfied: websockets>=10.4 in c:\\users\\arpan ghosh\\anaconda3\\lib\\site-packages (from uvicorn[standard]>=0.18.3->chromadb) (12.0)\n",
      "Requirement already satisfied: cachetools<6.0,>=2.0.0 in c:\\users\\arpan ghosh\\anaconda3\\lib\\site-packages (from google-auth>=1.0.1->kubernetes>=28.1.0->chromadb) (5.3.3)\n",
      "Requirement already satisfied: pyasn1-modules>=0.2.1 in c:\\users\\arpan ghosh\\anaconda3\\lib\\site-packages (from google-auth>=1.0.1->kubernetes>=28.1.0->chromadb) (0.2.8)\n",
      "Requirement already satisfied: rsa<5,>=3.1.4 in c:\\users\\arpan ghosh\\anaconda3\\lib\\site-packages (from google-auth>=1.0.1->kubernetes>=28.1.0->chromadb) (4.9)\n",
      "Requirement already satisfied: filelock in c:\\users\\arpan ghosh\\anaconda3\\lib\\site-packages (from huggingface-hub<1.0,>=0.16.4->tokenizers>=0.13.2->chromadb) (3.9.0)\n",
      "Requirement already satisfied: fsspec>=2023.5.0 in c:\\users\\arpan ghosh\\anaconda3\\lib\\site-packages (from huggingface-hub<1.0,>=0.16.4->tokenizers>=0.13.2->chromadb) (2024.3.1)\n",
      "Requirement already satisfied: zipp>=0.5 in c:\\users\\arpan ghosh\\anaconda3\\lib\\site-packages (from importlib-metadata<=7.0,>=6.0->opentelemetry-api>=1.2.0->chromadb) (3.11.0)\n",
      "Requirement already satisfied: markdown-it-py>=2.2.0 in c:\\users\\arpan ghosh\\anaconda3\\lib\\site-packages (from rich>=10.11.0->typer>=0.9.0->chromadb) (2.2.0)\n",
      "Requirement already satisfied: pygments<3.0.0,>=2.13.0 in c:\\users\\arpan ghosh\\anaconda3\\lib\\site-packages (from rich>=10.11.0->typer>=0.9.0->chromadb) (2.15.1)\n",
      "Requirement already satisfied: anyio<5,>=3.4.0 in c:\\users\\arpan ghosh\\anaconda3\\lib\\site-packages (from starlette<0.38.0,>=0.37.2->fastapi>=0.95.2->chromadb) (3.5.0)\n",
      "Requirement already satisfied: humanfriendly>=9.1 in c:\\users\\arpan ghosh\\anaconda3\\lib\\site-packages (from coloredlogs->onnxruntime>=1.14.1->chromadb) (10.0)\n",
      "Requirement already satisfied: mpmath>=0.19 in c:\\users\\arpan ghosh\\anaconda3\\lib\\site-packages (from sympy->onnxruntime>=1.14.1->chromadb) (1.3.0)\n",
      "Requirement already satisfied: sniffio>=1.1 in c:\\users\\arpan ghosh\\anaconda3\\lib\\site-packages (from anyio<5,>=3.4.0->starlette<0.38.0,>=0.37.2->fastapi>=0.95.2->chromadb) (1.2.0)\n",
      "Requirement already satisfied: pyreadline3 in c:\\users\\arpan ghosh\\anaconda3\\lib\\site-packages (from humanfriendly>=9.1->coloredlogs->onnxruntime>=1.14.1->chromadb) (3.4.1)\n",
      "Requirement already satisfied: mdurl~=0.1 in c:\\users\\arpan ghosh\\anaconda3\\lib\\site-packages (from markdown-it-py>=2.2.0->rich>=10.11.0->typer>=0.9.0->chromadb) (0.1.0)\n",
      "Requirement already satisfied: pyasn1<0.5.0,>=0.4.6 in c:\\users\\arpan ghosh\\anaconda3\\lib\\site-packages (from pyasn1-modules>=0.2.1->google-auth>=1.0.1->kubernetes>=28.1.0->chromadb) (0.4.8)\n",
      "Using cached chromadb-0.5.0-py3-none-any.whl (526 kB)\n",
      "Using cached build-1.2.1-py3-none-any.whl (21 kB)\n",
      "Using cached fastapi-0.110.2-py3-none-any.whl (91 kB)\n",
      "Using cached kubernetes-29.0.0-py2.py3-none-any.whl (1.6 MB)\n",
      "Using cached onnxruntime-1.17.3-cp311-cp311-win_amd64.whl (5.6 MB)\n",
      "Using cached opentelemetry_api-1.24.0-py3-none-any.whl (60 kB)\n",
      "Using cached opentelemetry_exporter_otlp_proto_grpc-1.24.0-py3-none-any.whl (18 kB)\n",
      "Using cached opentelemetry_exporter_otlp_proto_common-1.24.0-py3-none-any.whl (17 kB)\n",
      "Using cached opentelemetry_instrumentation_fastapi-0.45b0-py3-none-any.whl (11 kB)\n",
      "Using cached opentelemetry_instrumentation-0.45b0-py3-none-any.whl (28 kB)\n",
      "Using cached opentelemetry_instrumentation_asgi-0.45b0-py3-none-any.whl (14 kB)\n",
      "Using cached opentelemetry_sdk-1.24.0-py3-none-any.whl (106 kB)\n",
      "Using cached posthog-3.5.0-py2.py3-none-any.whl (41 kB)\n",
      "Using cached tokenizers-0.19.1-cp311-none-win_amd64.whl (2.2 MB)\n",
      "Using cached typer-0.12.3-py3-none-any.whl (47 kB)\n",
      "Using cached backoff-2.2.1-py3-none-any.whl (15 kB)\n",
      "Using cached huggingface_hub-0.22.2-py3-none-any.whl (388 kB)\n",
      "Using cached starlette-0.37.2-py3-none-any.whl (71 kB)\n",
      "Using cached watchfiles-0.21.0-cp311-none-win_amd64.whl (280 kB)\n",
      "Using cached coloredlogs-15.0.1-py2.py3-none-any.whl (46 kB)\n",
      "Using cached requests_oauthlib-2.0.0-py2.py3-none-any.whl (24 kB)\n",
      "Using cached uvicorn-0.29.0-py3-none-any.whl (60 kB)\n",
      "Using cached asgiref-3.8.1-py3-none-any.whl (23 kB)\n",
      "Installing collected packages: build, backoff, asgiref, watchfiles, uvicorn, starlette, requests-oauthlib, posthog, opentelemetry-exporter-otlp-proto-common, opentelemetry-api, huggingface-hub, coloredlogs, typer, tokenizers, opentelemetry-sdk, opentelemetry-instrumentation, onnxruntime, kubernetes, fastapi, opentelemetry-instrumentation-asgi, opentelemetry-exporter-otlp-proto-grpc, opentelemetry-instrumentation-fastapi, chromadb\n",
      "Successfully installed asgiref-3.8.1 backoff-2.2.1 build-1.2.1 chromadb-0.5.0 coloredlogs-15.0.1 fastapi-0.110.2 huggingface-hub-0.22.2 kubernetes-29.0.0 onnxruntime-1.17.3 opentelemetry-api-1.24.0 opentelemetry-exporter-otlp-proto-common-1.24.0 opentelemetry-exporter-otlp-proto-grpc-1.24.0 opentelemetry-instrumentation-0.45b0 opentelemetry-instrumentation-asgi-0.45b0 opentelemetry-instrumentation-fastapi-0.45b0 opentelemetry-sdk-1.24.0 posthog-3.5.0 requests-oauthlib-2.0.0 starlette-0.37.2 tokenizers-0.19.1 typer-0.12.3 uvicorn-0.29.0 watchfiles-0.21.0\n"
     ]
    }
   ],
   "source": [
    "!pip install chromadb"
   ]
  },
  {
   "cell_type": "code",
   "execution_count": 6,
   "id": "bde7cfdf",
   "metadata": {},
   "outputs": [],
   "source": [
    "from langchain_google_genai import ChatGoogleGenerativeAI\n",
    "\n",
    "# Setup API Key\n",
    "f = open(r\"C:\\Users\\Arpan Ghosh\\OneDrive\\Desktop\\Gemini\\key\\Gemini_key.txt\")\n",
    "GOOGLE_API_KEY = f.read()\n",
    "\n",
    "chat_model = ChatGoogleGenerativeAI(google_api_key=GOOGLE_API_KEY, model=\"gemini-1.5-pro-latest\")"
   ]
  },
  {
   "cell_type": "code",
   "execution_count": 7,
   "id": "a6b79743",
   "metadata": {},
   "outputs": [],
   "source": [
    "# Load a document\n",
    "\n",
    "from langchain_community.document_loaders import PyPDFLoader"
   ]
  },
  {
   "cell_type": "code",
   "execution_count": 8,
   "id": "5c476abc",
   "metadata": {},
   "outputs": [
    {
     "name": "stdout",
     "output_type": "stream",
     "text": [
      "[Document(page_content='Preprint. Under review.\\nLeave No Context Behind:\\nEfficient Infinite Context Transformers with Infini-attention\\nTsendsuren Munkhdalai, Manaal Faruqui and Siddharth Gopal\\nGoogle\\ntsendsuren@google.com\\nAbstract\\nThis work introduces an efficient method to scale Transformer-based Large\\nLanguage Models (LLMs) to infinitely long inputs with bounded memory\\nand computation. A key component in our proposed approach is a new at-\\ntention technique dubbed Infini-attention. The Infini-attention incorporates\\na compressive memory into the vanilla attention mechanism and builds\\nin both masked local attention and long-term linear attention mechanisms\\nin a single Transformer block. We demonstrate the effectiveness of our\\napproach on long-context language modeling benchmarks, 1M sequence\\nlength passkey context block retrieval and 500K length book summarization\\ntasks with 1B and 8B LLMs. Our approach introduces minimal bounded\\nmemory parameters and enables fast streaming inference for LLMs.\\n1 Introduction\\nMemory serves as a cornerstone of intelligence, as it enables efficient computations tailored\\nto specific contexts. However, Transformers (Vaswani et al., 2017) and Transformer-based\\nLLMs (Brown et al., 2020; Touvron et al., 2023; Anil et al., 2023; Groeneveld et al., 2024) have\\na constrained context-dependent memory, due to the nature of the attention mechanism.\\nUpdate \\nVVConcat Concat \\nQ V\\nQ V\\nQs{KV}sCompressive memory & \\nLinear attention Causal scaled dot-product \\nattention & PE Linear \\nprojection \\n{KV}s-1Retrieve \\nFigure 1: Infini-attention has an addi-\\ntional compressive memory with linear\\nattention for processing infinitely long\\ncontexts. {KV}s−1and{KV}sare atten-\\ntion key and values for current and previ-\\nous input segments, respectively and Qs\\nthe attention queries. PE denotes position\\nembeddings.The attention mechanism in Transformers ex-\\nhibits quadratic complexity in both memory\\nfootprint and computation time. For example,\\nthe attention Key-Value (KV) states have 3TB\\nmemory footprint for a 500B model with batch\\nsize 512 and context length 2048 (Pope et al.,\\n2023). Indeed, scaling LLMs to longer sequences\\n(i.e. 1M tokens) is challenging with the standard\\nTransformer architectures and serving longer\\nand longer context models becomes costly finan-\\ncially.\\nCompressive memory systems promise to be\\nmore scalable and efficient than the attention\\nmechanism for extremely long sequences (Kan-\\nerva, 1988; Munkhdalai et al., 2019). Instead\\nof using an array that grows with the input se-\\nquence length, a compressive memory primarily\\nmaintains a fixed number of parameters to store\\nand recall information with a bounded storage\\nand computation costs. In the compressive mem-\\nory, new information is added to the memory\\nby changing its parameters with an objective\\nthat this information can be recovered back later\\non. However, the LLMs in their current state\\nhave yet to see an effective, practical compres-\\nsive memory technique that balances simplicity along with quality.\\n1arXiv:2404.07143v1  [cs.CL]  10 Apr 2024', metadata={'source': 'C:\\\\Users\\\\Arpan Ghosh\\\\OneDrive\\\\Desktop\\\\langchain\\\\Leave_No_Context_Behind.pdf', 'page': 0}), Document(page_content='Preprint. Under review.\\nIn this work, we introduce a novel approach that enables Transformer LLMs to effectively\\nprocess infinitely long inputs with bounded memory footprint and computation. A key\\ncomponent in our proposed approach is a new attention technique dubbed Infini-attention\\n(Figure 1). The Infini-attention incorporates a compressive memory into the vanilla attention\\nmechanism (Bahdanau et al., 2014; Vaswani et al., 2017) and builds in both masked local\\nattention and long-term linear attention mechanisms in a single Transformer block.\\nSuch a subtle but critical modification to the Transformer attention layer enables a natural\\nextension of existing LLMs to infinitely long contexts via continual pre-training and fine-\\ntuning.\\nOur Infini-attention reuses all the key, value and query states of the standard attention\\ncomputation for long-term memory consolidation and retrieval. We store old KV states of\\nthe attention in the compressive memory, instead of discarding them like in the standard\\nattention mechanism. We then retrieve the values from the memory by using the attention\\nquery states when processing subsequent sequences. To compute the final contextual\\noutput, the Infini-attention aggregates the long-term memory-retrieved values and the local\\nattention contexts.\\nIn our experiments, we show that our approach outperforms baseline models on long-\\ncontext language modeling benchmarks while having 114x comprehension ratio in terms of\\nmemory size. The model achieves even better perplexity when trained with 100K sequence\\nlength. A 1B LLM naturally scales to 1M sequence length and solves the passkey retrieval\\ntask when injected with Infini-attention. Finally, we show that a 8B model with Infini-\\nattention reaches a new SOTA result on a 500K length book summarization task after\\ncontinual pre-training and task fine-tuning.\\nIn summary, our work makes the following contributions:\\n1.We introduce a practical and yet powerful attention mechanism – Infini-attention\\nwith long-term compressive memory and local causal attention for efficiently mod-\\neling both long and short-range contextual dependencies.\\n2.Infini-attention introduces minimal change to the standard scaled dot-product atten-\\ntion and supports plug-and-play continual pre-training and long-context adaptation\\nby design.\\n3.Our approach enables Transformer LLMs to scale to infinitely long context with a\\nbounded memory and compute resource by processing extremely long inputs in a\\nstreaming fashion.\\n2 Method\\nFigure 2 compares our model, Infini-Transformer, and Transformer-XL (Dai et al., 2019).\\nSimilar to Transformer-XL, Infini-Transformer operates on a sequence of segments. We\\ncompute the standard causal dot-product attention context within each segment. So the\\ndot-product attention computation is local in a sense that it covers a total Nnumber of\\ntokens of the current segment with index S(Nis the segment length).\\nThe local attention (Dai et al., 2019), however, discards the attention states of the previous\\nsegment when processing the next one. In Infini-Transformers, instead of leaving out the\\nold KV attention states, we propose to reuse them to maintain the entire context history\\nwith a compressive memory. So each attention layer of Infini-Transformers has both global\\ncompressive and local fine-grained states. We call such an efficient attention mechanism\\nInfini-attention, which is illustrated in Figure 1 and described formally in the following\\nsections.\\n2.1 Infini-attention\\nAs shown Figure 1, our Infini-attention computes both local and global context states and\\ncombine them for its output. Similar to multi-head attention (MHA), it maintains Hnumber\\n2', metadata={'source': 'C:\\\\Users\\\\Arpan Ghosh\\\\OneDrive\\\\Desktop\\\\langchain\\\\Leave_No_Context_Behind.pdf', 'page': 1}), Document(page_content='Preprint. Under review.\\nSegment 1 Segment 2 Segment 3 \\nSegment 1 Segment 2 Segment 3 Transformer block: Infini-T ransformer \\nT ransformer-XL Compressive memory: \\nMemory update: \\nMemory retrieval: \\nEffective context: \\nInput segment: Segment 1 \\nFigure 2: Infini-Transformer (top) has an entire context history whereas Transformer-XL\\n(bottom) discards old contexts since it caches the KV states for the last segment only.\\nof parallel compressive memory per attention layer ( His the number of attention heads) in\\naddition to the dot-product attention.\\n2.1.1 Scaled Dot-product Attention\\nThe multi-head scaled dot-product attention (Vaswani et al., 2017), specially its self-attention\\nvariant (Munkhdalai et al., 2016; Cheng et al., 2016), has been the main building block in\\nLLMs. The MHA’s strong capability to model context-dependent dynamic computation and\\nits conveniences of temporal masking have been leveraged extensively in the autoregressive\\ngenerative models.\\nA single head in the vanilla MHA computes its attention context Adot∈I RN×dvaluefrom\\nsequence of input segments X∈I RN×dmodel as follows. First, it computes attention query,\\nkey, and value states:\\nK=XW K,V=XW Vand Q=XW Q. (1)\\nHere, WK∈I Rdmodel×dkey,WV∈I Rdmodel×dvalueand WQ∈I Rdmodel×dkeyare trainable projection\\nmatrices. Then, the attention context is calculated as a weighted average of all other values\\nas\\nAdot=softmax\\x12QKT\\n√dmodel\\x13\\nV. (2)\\nFor MHA, we compute Hnumber of attention context vectors for each sequence element\\nin parallel, concatenate them along the second dimension and then finally project the\\nconcatenated vector to the model space to obtain attention the output.\\n2.1.2 Compressive Memory\\nIn Infini-attention, instead of computing new memory entries for compressive memory, we\\nreuse the query, key and value states ( Q,Kand V) from the dot-product attention compu-\\ntation. The state sharing and reusing between the dot-product attention and compressive\\nmemory not only enables efficient plug-in-play long-context adaptation but also speeds up\\ntraining and inference. Similar to the prior work (Munkhdalai et al., 2019), our goal is to\\nstore bindings of key and value states in the compressive memory and retrieve by using the\\nquery vectors.\\n3', metadata={'source': 'C:\\\\Users\\\\Arpan Ghosh\\\\OneDrive\\\\Desktop\\\\langchain\\\\Leave_No_Context_Behind.pdf', 'page': 2}), Document(page_content='Preprint. Under review.\\nWhile there are different forms of compressive memory proposed in the literature (Hop-\\nfield, 1982; Kanerva, 1988; Schlag et al., 2019; Munkhdalai et al., 2019), for simplicity and\\ncomputational efficiency, in this work we parameterize the memory with an associative\\nmatrix (Schlag et al., 2020). This approach further allows us to cast the memory update\\nand retrieval process as linear attention mechanism (Shen et al., 2018) and to leverage\\nstable training techniques from the related methods. Specially, we adopt the update rule\\nand retrieval mechanism by Katharopoulos et al. (2020) mainly due to its simplicity and\\ncompetitive performance.\\nMemory retrieval. In Infini-attention, we retrieve new content Amem∈I RN×dvaluefrom the\\nmemory Ms−1∈I Rdkey×dvalueby using the query Q∈I RN×dkeyas:\\nAmem=σ(Q)Ms−1\\nσ(Q)zs−1. (3)\\nHere, σand zs−1∈I Rdkeyare a nonlinear activation function and a normalization term,\\nrespectively. As the choice of the non-linearity and the norm method is crucial for training\\nstability, following Katharopoulos et al. (2020) we record a sum over all keys as the normal-\\nization term zs−1and use element-wise ELU + 1 as the activation function (Clevert et al.,\\n2015).\\nMemory update. Once the retrieval is done, we update the memory and the normalization\\nterm with the new KV entries and obtain the next states as\\nMs←Ms−1+σ(K)TVand zs←zs−1+N\\n∑\\nt=1σ(Kt). (4)\\nThe new memory states Msand zsare then passed to the next segment S+1, building in\\na recurrence in each attention layer. The right side term σ(K)TVin Eq. (4)is known as an\\nassociative binding operator (Smolensky, 1990; Hebb, 2005; Schlag et al., 2020).\\nInspired by the success of delta rule (Munkhdalai et al., 2019; Schlag et al., 2020; 2021),\\nwe have also incorporated it into our Infini-attention. The delta rule attempts a slightly\\nimproved memory update by first retrieving existing value entries and subtracting them\\nfrom the new values before applying the associative bindings as new update.\\nMs←Ms−1+σ(K)T(V−σ(K)Ms−1\\nσ(K)zs−1). (5)\\nThis update rule ( Linear +Delta ) leaves the associative matrix unmodified if the KV binding\\nalready exists in the memory while still tracking the same normalization term as the former\\none ( Linear ) for numerical stability.\\nLong-term context injection. We aggregate the local attention state Adotand memory\\nretrieved content Amemvia a learned gating scalar β:\\nA=sigmoid (β)⊙Amem+ (1−sigmoid (β))⊙Adot. (6)\\nThis adds only a single scalar value as training parameter per head while allowing a\\nlearnable trade-off between the long-term and local information flows in the model (Wu\\net al., 2022).\\nSimilar to the standard MHA, for the multi-head Infini-attention we compute Hnumber of\\ncontext states in parallel, and concatenate and project them for the final attention output\\nO∈I RN×dmodel:\\nO= [A1; . . .AH]WO (7)\\nwhere WO∈I RH×dvalue×dmodelis trainable weights.\\n2.2 Memory and Effective Context Window\\nOur Infini-Transformer enables an unbounded context window with a bounded memory\\nfootprint. To illustrate this, Table 1 lists the previous segment-level memory models with\\n4', metadata={'source': 'C:\\\\Users\\\\Arpan Ghosh\\\\OneDrive\\\\Desktop\\\\langchain\\\\Leave_No_Context_Behind.pdf', 'page': 3}), Document(page_content='Preprint. Under review.\\nModel Memory (cache) footprint Context length Memory update Memory retrieval\\nTransformer-XL (dkey+dvalue)×H×N×l N ×l Discarded Dot-product attention\\nCompressive Transformer dmodel×(c+N)×l (c×r+N)×l Discarded Dot-product attention\\nMemorizing Transformers (dkey+dvalue)×H×N×S N ×S None kNN + dot-product attention\\nRMT dmodel×p×l×2 N×S Discarded Soft-prompt input\\nAutoCompressors dmodel×p×(m+1)×l N ×S Discarded Soft-prompt input\\nInfini-Transformers dkey×(dvalue+1)×H×l N ×S Incremental Linear attention\\nTable 1: Transformer models with segment-level memory are compared. For each model, the\\nmemory size and effective context length are defined in terms of their model parameters ( N:\\ninput segment length, S: the number of segments, l: the number of layers, H: the number\\nof attention heads, c: Compressive Transformer memory size, r: compression ratio, p: the\\nnumber of soft-prompt summary vectors and m: summary vector accumulation steps).\\ntheir context-memory footprint and effective context length defined in terms of model\\nparameters and input segment length. Infini-Transformer has a constant memory complexity\\nofdkey×dvalue+dkeyfor storing compressed context in Msand zsfor each head in single\\nlayer while for the other models, the complexity grows along with the sequence dimension\\n- the memory complexity depends either on the cache size for Transformer-XL (Dai et al.,\\n2019), Compressive Transformer (Rae et al., 2019) and Memorizing Transformers (Wu et al.,\\n2022) or on the soft-prompt size for RTM (Bulatov et al., 2022) and AutoCompressors (Ge\\net al., 2023).\\nEarly \\nlayers \\nAttention heads \\nFigure 3: There are two types of heads\\nemerged in Infini-attention after training: spe-\\ncialized heads with gating score near 0 or\\n1 and mixer heads with score close to 0.5.\\nThe specialized heads either process contex-\\ntual information via the local attention mech-\\nanism or retrieve from the compressive mem-\\nory whereas the mixer heads aggregate both\\ncurrent contextual information and long-term\\nmemory content together into single output.Transformer-XL computes attention over KV\\nstates cached from the last segment in addition\\nto the current states. Since this is done for each\\nlayer, Transformer-XL extends the context win-\\ndow from NtoN×ltokens with an additional\\nmemory footprint of (dkey+dvalue)×H×N×l.\\nCompressive Transformer adds a second cache\\nto Transformer-XL and stores compressed rep-\\nresentations of past segment activations. So it\\nextends the Transformer-XL’s context window\\nbyc×r×lbut still has a large context-memory\\ncomplexity. Taking the idea further, Memoriz-\\ning Transformers opt to store the entire KV states\\nas context for input sequences. Since the stor-\\nage becomes prohibitively expensive in this case,\\nthey restrict the contextual computation to a sin-\\ngle layer only. By utilizing a fast kNN retriever,\\nMemorizing Transformers then build a context\\nwindow covering the entire sequence history of\\nlength N×Sat an increased cost of storage. Our\\nexperiments show that Infini-Transformer LM\\ncan achieve more than 100x compression rate on\\ntop of Memorizing Transformers while further\\nimproving the perplexity score.\\nRMT and AutoCompressors allow for a poten-\\ntially infinite context length since they compress\\nthe input into summary vectors and then pass\\nthem as extra soft-prompt inputs for the subsequent segments. However, in practice the\\nsuccess of those techniques highly depends on the size of soft-prompt vectors. Namely, it\\nis necessary to increase the number of soft-prompt (summary) vectors to achieve a better\\nperformance with AutoCompressors (Chevalier et al., 2023) and with that, the memory and\\ncompute complexity grow quickly resulting in diminished efficiency. It was also observed in\\nAutoCompressors (Chevalier et al., 2023) that an efficient compression objective is needed\\nfor training such prompt compression techniques (Ge et al., 2023).\\n5', metadata={'source': 'C:\\\\Users\\\\Arpan Ghosh\\\\OneDrive\\\\Desktop\\\\langchain\\\\Leave_No_Context_Behind.pdf', 'page': 4})]\n"
     ]
    }
   ],
   "source": [
    "# Load a document\n",
    "\n",
    "from langchain_community.document_loaders import PyPDFLoader\n",
    "\n",
    "# Provide the path to your PDF file\n",
    "pdf_path = r\"C:\\Users\\Arpan Ghosh\\OneDrive\\Desktop\\langchain\\Leave_No_Context_Behind.pdf\"\n",
    "\n",
    "# Create a PyPDFLoader instance\n",
    "loader = PyPDFLoader(pdf_path)\n",
    "\n",
    "# Load and split the document\n",
    "data = loader.load_and_split()\n",
    "\n",
    "# Print the first 5 elements of the data\n",
    "print(data[:5])"
   ]
  },
  {
   "cell_type": "code",
   "execution_count": 9,
   "id": "634fa5ee",
   "metadata": {},
   "outputs": [
    {
     "name": "stderr",
     "output_type": "stream",
     "text": [
      "Created a chunk of size 568, which is longer than the specified 500\n",
      "Created a chunk of size 506, which is longer than the specified 500\n",
      "Created a chunk of size 633, which is longer than the specified 500\n"
     ]
    },
    {
     "name": "stdout",
     "output_type": "stream",
     "text": [
      "110\n"
     ]
    }
   ],
   "source": [
    "# Spliting the document into chunks\n",
    "\n",
    "from langchain_text_splitters import NLTKTextSplitter\n",
    "\n",
    "text_splitter = NLTKTextSplitter(chunk_size=500, chunk_overlap=100)\n",
    "\n",
    "chunks = text_splitter.split_documents(data)\n",
    "\n",
    "print(len(chunks))"
   ]
  },
  {
   "cell_type": "code",
   "execution_count": 10,
   "id": "9477e45a",
   "metadata": {},
   "outputs": [],
   "source": [
    "# Creating Chunks Embedding\n",
    "# We are just loading OpenAIEmbeddings\n",
    "\n",
    "from langchain_google_genai import GoogleGenerativeAIEmbeddings\n",
    "\n",
    "embedding_model = GoogleGenerativeAIEmbeddings(google_api_key=GOOGLE_API_KEY, model=\"models/embedding-001\")\n",
    "\n",
    "# vectors = embeddings.embed_documents(chunks)"
   ]
  },
  {
   "cell_type": "code",
   "execution_count": 11,
   "id": "c453b823",
   "metadata": {},
   "outputs": [],
   "source": [
    "# Store the chunks in vector store\n",
    "from langchain_community.vectorstores import Chroma\n",
    "\n",
    "# Embed each chunk and load it into the vector store\n",
    "db = Chroma.from_documents(chunks, embedding_model, persist_directory=\"./chroma_db_rag\")\n",
    "\n",
    "# Persist the database on drive\n",
    "db.persist()"
   ]
  },
  {
   "cell_type": "code",
   "execution_count": 12,
   "id": "899710f4",
   "metadata": {},
   "outputs": [],
   "source": [
    "# Setting a Connection with the ChromaDB\n",
    "connection = Chroma(persist_directory=\"./chroma_db_rag\", embedding_function=embedding_model)"
   ]
  },
  {
   "cell_type": "code",
   "execution_count": 13,
   "id": "04ea9c6a",
   "metadata": {},
   "outputs": [
    {
     "name": "stdout",
     "output_type": "stream",
     "text": [
      "<class 'langchain_core.vectorstores.VectorStoreRetriever'>\n"
     ]
    }
   ],
   "source": [
    "# Converting CHROMA db_connection to Retriever Object\n",
    "retriever = connection.as_retriever(search_kwargs={\"k\": 5})\n",
    "\n",
    "print(type(retriever))"
   ]
  },
  {
   "cell_type": "code",
   "execution_count": 14,
   "id": "28e474ff",
   "metadata": {},
   "outputs": [],
   "source": [
    "# Query-1\n",
    "user_query = \"What is Infini-attention?\""
   ]
  },
  {
   "cell_type": "code",
   "execution_count": 15,
   "id": "ca8e4538",
   "metadata": {},
   "outputs": [],
   "source": [
    "retrieved_docs = retriever.invoke(user_query)"
   ]
  },
  {
   "cell_type": "code",
   "execution_count": 16,
   "id": "3ba10e8a",
   "metadata": {},
   "outputs": [
    {
     "data": {
      "text/plain": [
       "5"
      ]
     },
     "execution_count": 16,
     "metadata": {},
     "output_type": "execute_result"
    }
   ],
   "source": [
    "len(retrieved_docs)"
   ]
  },
  {
   "cell_type": "code",
   "execution_count": 17,
   "id": "c65db346",
   "metadata": {},
   "outputs": [
    {
     "name": "stdout",
     "output_type": "stream",
     "text": [
      "2.1 Infini-attention\n",
      "As shown Figure 1, our Infini-attention computes both local and global context states and\n",
      "combine them for its output.\n",
      "\n",
      "Similar to multi-head attention (MHA), it maintains Hnumber\n",
      "2\n"
     ]
    }
   ],
   "source": [
    "print(retrieved_docs[0].page_content)"
   ]
  },
  {
   "cell_type": "code",
   "execution_count": 18,
   "id": "12b62f4b",
   "metadata": {},
   "outputs": [],
   "source": [
    "# Query-2\n",
    "user_query = \"Tell me about LLMs?\""
   ]
  },
  {
   "cell_type": "code",
   "execution_count": 19,
   "id": "9f2bdef9",
   "metadata": {},
   "outputs": [],
   "source": [
    "retrieved_docs = retriever.invoke(user_query)"
   ]
  },
  {
   "cell_type": "code",
   "execution_count": 20,
   "id": "685a57e4",
   "metadata": {},
   "outputs": [
    {
     "data": {
      "text/plain": [
       "5"
      ]
     },
     "execution_count": 20,
     "metadata": {},
     "output_type": "execute_result"
    }
   ],
   "source": [
    "len(retrieved_docs)"
   ]
  },
  {
   "cell_type": "code",
   "execution_count": 21,
   "id": "780e0fc6",
   "metadata": {},
   "outputs": [
    {
     "name": "stdout",
     "output_type": "stream",
     "text": [
      "However, the LLMs in their current state\n",
      "have yet to see an effective, practical compres-\n",
      "sive memory technique that balances simplicity along with quality.\n",
      "\n",
      "1arXiv:2404.07143v1  [cs.CL]  10 Apr 2024\n"
     ]
    }
   ],
   "source": [
    "print(retrieved_docs[0].page_content)"
   ]
  },
  {
   "cell_type": "markdown",
   "id": "1f01372a",
   "metadata": {},
   "source": [
    "## Passing the context and questioning to the LLM"
   ]
  },
  {
   "cell_type": "code",
   "execution_count": 22,
   "id": "17b60415",
   "metadata": {},
   "outputs": [],
   "source": [
    "from langchain_core.messages import HumanMessage, AIMessage, SystemMessage\n",
    "from langchain_core.prompts import ChatPromptTemplate, SystemMessagePromptTemplate, HumanMessagePromptTemplate\n",
    "\n",
    "chat_template = ChatPromptTemplate.from_messages([\n",
    "    # System Message Prompt Template\n",
    "    SystemMessage(content=\"\"\"You are a Helpful AI Bot. \n",
    "    You take the context and question from user. Your answer should be based on the specific context.\"\"\"),\n",
    "    # Human Message Prompt Template\n",
    "    HumanMessagePromptTemplate.from_template(\"\"\"Answer the question based on the given context.\n",
    "    Context:\n",
    "    {context}\n",
    "    Question: \n",
    "    {question}\n",
    "    \n",
    "    Answer: \"\"\")\n",
    "])"
   ]
  },
  {
   "cell_type": "code",
   "execution_count": 23,
   "id": "766e3c25",
   "metadata": {},
   "outputs": [],
   "source": [
    "from langchain_core.output_parsers import StrOutputParser\n",
    "\n",
    "output_parser = StrOutputParser()"
   ]
  },
  {
   "cell_type": "code",
   "execution_count": 25,
   "id": "8b533deb",
   "metadata": {},
   "outputs": [],
   "source": [
    "from langchain_core.runnables import RunnablePassthrough\n",
    "\n",
    "def format_docs(docs):\n",
    "    return \"\\n\\n\".join(doc.page_content for doc in docs)\n",
    "\n",
    "\n",
    "rag_chain = (\n",
    "    {\"context\": retriever | format_docs, \"question\": RunnablePassthrough()}\n",
    "    | chat_template\n",
    "    | chat_model\n",
    "    | output_parser\n",
    ")"
   ]
  },
  {
   "cell_type": "code",
   "execution_count": 26,
   "id": "739a0848",
   "metadata": {},
   "outputs": [
    {
     "data": {
      "text/markdown": [
       "## LLMs Explained\n",
       "\n",
       "Based on the provided context, **LLMs stands for Large Language Models**. \n",
       "\n",
       "These models are a type of artificial intelligence focused on understanding and processing human language. They are trained on massive amounts of text data, allowing them to perform various tasks such as:\n",
       "\n",
       "* **Text generation:** Creating coherent and contextually relevant text, like stories, articles, or poems.\n",
       "* **Translation:** Converting text from one language to another.\n",
       "* **Summarization:** Condensing large amounts of text into shorter summaries.\n",
       "* **Question answering:** Providing answers to questions based on given information. \n"
      ],
      "text/plain": [
       "<IPython.core.display.Markdown object>"
      ]
     },
     "execution_count": 26,
     "metadata": {},
     "output_type": "execute_result"
    }
   ],
   "source": [
    "from IPython.display import Markdown as markdown\n",
    "response = rag_chain.invoke(\"What is LLMs?\")\n",
    "\n",
    "markdown(response)"
   ]
  },
  {
   "cell_type": "code",
   "execution_count": 27,
   "id": "738f0f24",
   "metadata": {},
   "outputs": [
    {
     "data": {
      "text/markdown": [
       "## Main Focus of the Document: Addressing Context Limitations in Transformer-based LLMs\n",
       "\n",
       "The document focuses on the limitations of Transformer-based LLMs regarding context length and proposes solutions to overcome these challenges.\n",
       "\n",
       "**Key Points:**\n",
       "\n",
       "* **Limited Context Memory:** Transformer-based LLMs, despite their success, struggle with long sequences due to the nature of the attention mechanism. This leads to challenges in both scalability and financial costs when dealing with extensive contexts.\n",
       "* **Compressive Memory Systems:**  The document explores alternative approaches like compressive memory systems, which offer better scalability and efficiency for handling extremely long sequences compared to the traditional attention mechanism.\n",
       "* **Input Compression Techniques:**  It discusses methods of compressing input representations as summaries of past sequence segments, including utilizing Transformer LLMs themselves for efficient long-context modeling.\n",
       "* **Infini-Transformer:**  The document introduces Infini-Transformer as a solution to enable LLMs to handle infinitely long contexts with bounded memory and compute resources. This is achieved by processing long inputs in a streaming fashion, similar to Transformer-XL but with key differences.\n",
       "\n",
       "**Overall, the document aims to address the limitations of current Transformer-based LLMs in handling long contexts and proposes solutions like compressive memory and the Infini-Transformer model to enable efficient processing of extensive sequences.** \n"
      ],
      "text/plain": [
       "<IPython.core.display.Markdown object>"
      ]
     },
     "execution_count": 27,
     "metadata": {},
     "output_type": "execute_result"
    }
   ],
   "source": [
    "response = rag_chain.invoke(\"What is the main focus of the document regarding Transformer-based Large Language Models (LLMs)?\")\n",
    "\n",
    "markdown(response)"
   ]
  },
  {
   "cell_type": "code",
   "execution_count": 28,
   "id": "ffc55670",
   "metadata": {},
   "outputs": [
    {
     "data": {
      "text/markdown": [
       "## LLM Pre-training for Long-Context Explained:\n",
       "\n",
       "Based on the context you provided, here's an explanation of LLM pre-training, specifically focused on the **long-context adaptation** of existing LLMs:\n",
       "\n",
       "**Challenge:** \n",
       "Standard LLMs struggle with long sequences of text due to limitations in attention mechanisms and memory.\n",
       "\n",
       "**Solution:**\n",
       "Researchers are exploring \"continual pre-training\" methods to adapt existing LLMs for long-context scenarios. This involves further training the models on extensive text sequences (over 4K tokens) to improve their ability to handle and process lengthy inputs effectively.\n",
       "\n",
       "**Approaches:**\n",
       "\n",
       "* **Extending Attention Layers:** Modifying the standard attention mechanisms (like dot-product attention) to better capture long-range dependencies within the text.\n",
       "* **Compressed Input Representations:**  Employing techniques to summarize or compress past segments of the input sequence, allowing the model to retain essential information without being overwhelmed by the sheer volume of data.\n",
       "* **Transformer-based Compression:**  Utilizing another Transformer LLM specifically for compressing the input sequence, enabling efficient processing of long contexts.\n",
       "\n",
       "**Example:**\n",
       "The context mentions using a 1B parameter LLM and replacing its standard Multi-Head Attention (MHA) with \"Infini-attention\" – a method designed for long sequences. This modified LLM was then further pre-trained on 4K token long inputs, aiming to enhance its long-context capabilities.\n",
       "\n",
       "**Current State & Future Direction:**\n",
       "While these methods show promise, the research is ongoing. The challenge lies in finding a balance between simplicity and effectiveness. The ideal \"compressive memory technique\" should be easy to implement and integrate into existing LLMs while maintaining high-quality performance on long-context tasks. \n"
      ],
      "text/plain": [
       "<IPython.core.display.Markdown object>"
      ]
     },
     "execution_count": 28,
     "metadata": {},
     "output_type": "execute_result"
    }
   ],
   "source": [
    "response = rag_chain.invoke(\"Explain about LLM Pre-training?\")\n",
    "\n",
    "markdown(response)"
   ]
  },
  {
   "cell_type": "code",
   "execution_count": null,
   "id": "21c8c783",
   "metadata": {},
   "outputs": [],
   "source": []
  },
  {
   "cell_type": "code",
   "execution_count": null,
   "id": "fad9aeb6",
   "metadata": {},
   "outputs": [],
   "source": []
  },
  {
   "cell_type": "code",
   "execution_count": null,
   "id": "1c5529e7",
   "metadata": {},
   "outputs": [],
   "source": []
  }
 ],
 "metadata": {
  "kernelspec": {
   "display_name": "Python 3 (ipykernel)",
   "language": "python",
   "name": "python3"
  },
  "language_info": {
   "codemirror_mode": {
    "name": "ipython",
    "version": 3
   },
   "file_extension": ".py",
   "mimetype": "text/x-python",
   "name": "python",
   "nbconvert_exporter": "python",
   "pygments_lexer": "ipython3",
   "version": "3.11.4"
  }
 },
 "nbformat": 4,
 "nbformat_minor": 5
}
